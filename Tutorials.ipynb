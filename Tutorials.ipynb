{
 "cells": [
  {
   "cell_type": "code",
   "execution_count": 1,
   "id": "167a925a",
   "metadata": {
    "id": "167a925a"
   },
   "outputs": [],
   "source": [
    "import numpy as np\n",
    "import matplotlib.pyplot as plt\n",
    "from scipy.stats import norm\n",
    "import statistics \n",
    "import warnings\n",
    "warnings.filterwarnings(\"ignore\")"
   ]
  },
  {
   "cell_type": "code",
   "execution_count": 2,
   "id": "a789c1e6",
   "metadata": {
    "id": "a789c1e6"
   },
   "outputs": [],
   "source": [
    "Ex=np.array([[1, 0.61, 0.22],[0.61, 1, 0.37], [0.22, 0.37, 1]])\n",
    "H=np.array([[0, 1, 0],[0, 0, 1]])\n",
    "Ey=np.array([[0.5, 0],[0, 0.5]])"
   ]
  },
  {
   "cell_type": "code",
   "execution_count": 3,
   "id": "f55d9232",
   "metadata": {
    "id": "f55d9232",
    "outputId": "85f00cab-1d80-461b-e623-3655ea75d5a2"
   },
   "outputs": [
    {
     "name": "stdout",
     "output_type": "stream",
     "text": [
      "[[0.39449151 0.04935876]\n",
      " [0.64507122 0.0875491 ]\n",
      " [0.0875491  0.64507122]]\n"
     ]
    }
   ],
   "source": [
    "#(a)\n",
    "K=Ex@H.T@np.linalg.inv(Ey+H@Ex@H.T)\n",
    "print(K)"
   ]
  },
  {
   "cell_type": "code",
   "execution_count": 4,
   "id": "9779c0db",
   "metadata": {
    "id": "9779c0db",
    "outputId": "a73e5848-40f2-46df-b98a-1cec3358bff5"
   },
   "outputs": [
    {
     "name": "stdout",
     "output_type": "stream",
     "text": [
      "[17.4578108  17.14760305 21.05025791]\n"
     ]
    }
   ],
   "source": [
    "mu=np.array([18,18,18])\n",
    "y=np.array([16, 23])\n",
    "EX_y=mu.T+K@(y.T-H@mu)\n",
    "print(EX_y)"
   ]
  },
  {
   "cell_type": "code",
   "execution_count": 5,
   "id": "1e68d2a7",
   "metadata": {
    "id": "1e68d2a7",
    "outputId": "a84aa698-9204-4ba1-f79b-ac5bd18391ea"
   },
   "outputs": [
    {
     "name": "stdout",
     "output_type": "stream",
     "text": [
      "[[0.79690125 0.27864575 0.24467938]\n",
      " [0.19724575 0.32253561 0.04377455]\n",
      " [0.02467938 0.04377455 0.32253561]]\n"
     ]
    }
   ],
   "source": [
    "I=np.array([[1, 0, 0.22],[0, 1, 0], [0, 0, 1]])\n",
    "E_star=(I-K@H)@Ex\n",
    "print(E_star)"
   ]
  },
  {
   "cell_type": "code",
   "execution_count": 6,
   "id": "58386490",
   "metadata": {
    "id": "58386490",
    "outputId": "93797f87-1761-4c8d-87bb-0aa7866f1c28"
   },
   "outputs": [
    {
     "name": "stdout",
     "output_type": "stream",
     "text": [
      "[[0.         0.14666667]\n",
      " [0.66666667 0.        ]\n",
      " [0.         0.66666667]]\n"
     ]
    }
   ],
   "source": [
    "#(b)\n",
    "EXX=I\n",
    "K1=EXX@H.T@np.linalg.inv(Ey+H@EXX@H.T)\n",
    "print(K1)"
   ]
  },
  {
   "cell_type": "code",
   "execution_count": 7,
   "id": "e92e7fdc",
   "metadata": {
    "id": "e92e7fdc",
    "outputId": "fc2c0cf8-9418-4947-d51e-755557f2b1ed"
   },
   "outputs": [
    {
     "name": "stdout",
     "output_type": "stream",
     "text": [
      "[18.73333333 16.66666667 21.33333333]\n"
     ]
    }
   ],
   "source": [
    "EX_Y=mu.T+K1@(y.T-H@mu)\n",
    "print(EX_Y)"
   ]
  },
  {
   "cell_type": "code",
   "execution_count": 8,
   "id": "8e2c604e",
   "metadata": {
    "id": "8e2c604e",
    "outputId": "bf89379c-bca9-4084-bcda-c596dfe58c34"
   },
   "outputs": [
    {
     "name": "stdout",
     "output_type": "stream",
     "text": [
      "[[1.         0.         0.29333333]\n",
      " [0.         0.33333333 0.        ]\n",
      " [0.         0.         0.33333333]]\n"
     ]
    }
   ],
   "source": [
    "E_star1=(I-K1@H)@EXX\n",
    "print(E_star1)"
   ]
  },
  {
   "cell_type": "markdown",
   "id": "881fbe76",
   "metadata": {
    "id": "881fbe76"
   },
   "source": [
    "## Stochastic"
   ]
  },
  {
   "cell_type": "code",
   "execution_count": 9,
   "id": "a821fdd1",
   "metadata": {
    "id": "a821fdd1"
   },
   "outputs": [],
   "source": [
    "alpha=0.7\n",
    "r=0.1\n",
    "q=0.5\n",
    "t=0\n",
    "T=(100-t)\n",
    "delta=np.random.normal(0,q,T+1)\n",
    "x0=np.random.normal(0,1,1)\n",
    "eps=np.random.normal(0,r,T+1)"
   ]
  },
  {
   "cell_type": "code",
   "execution_count": 11,
   "id": "d91f30d9",
   "metadata": {
    "id": "d91f30d9"
   },
   "outputs": [],
   "source": [
    "def process(x0,T,alpha,delta):\n",
    "    x=np.zeros(T+1)\n",
    "    x[0]=x0\n",
    "    for i in range(1,T+1,1):\n",
    "        x[i]=alpha*x[i-1]+delta[i]\n",
    "    return x\n",
    "\n",
    "\n",
    "Xdata=process(x0,T,alpha,delta)"
   ]
  },
  {
   "cell_type": "code",
   "execution_count": 12,
   "id": "b51f3b80",
   "metadata": {
    "id": "b51f3b80",
    "outputId": "7e1f503d-1c3d-4b6e-85a8-91d95c8018d1"
   },
   "outputs": [
    {
     "data": {
      "image/png": "[encoded data removed]",
      "text/plain": [
       "<Figure size 432x288 with 1 Axes>"
      ]
     },
     "metadata": {
      "needs_background": "light"
     },
     "output_type": "display_data"
    }
   ],
   "source": [
    "It=np.arange(t,T+1,1)\n",
    "plt.plot(It,Xdata,\"-b\")\n",
    "plt.grid()\n",
    "plt.show()"
   ]
  },
  {
   "cell_type": "code",
   "execution_count": 50,
   "id": "aef13573",
   "metadata": {
    "id": "aef13573"
   },
   "outputs": [
    {
     "name": "stdout",
     "output_type": "stream",
     "text": [
      "[-0.69987131 -0.48397906 -0.43956597 -0.01036877 -0.46662741  0.04230003\n",
      " -0.37683422 -1.33744613 -1.11593588 -1.24240507 -0.07951511  0.68280501\n",
      "  0.41562791  0.06071285  0.54217164  0.48027232  0.95775902  0.66816533\n",
      "  1.14828175  0.9220062   0.79717424  0.68625711  0.47750146  0.53563605\n",
      "  0.44434297  0.25835469 -0.45102828 -0.71224968 -0.35522068 -0.18259283\n",
      " -0.51277102 -0.99590004 -1.22340053 -0.31241745  0.26012991 -0.74555513\n",
      " -0.2726255   0.92159557  0.72094212  0.23788822  0.          0.\n",
      "  0.          0.          0.02057721 -0.59340736  0.30288188  0.00686468\n",
      "  1.00036448 -0.15772765 -0.65537925  0.06278102  0.05132395  0.55891937\n",
      "  0.07707733  0.9403407   1.04719678  0.86253123  1.48828549  1.42004801\n",
      "  0.55495272  0.31229351 -0.01649501  0.76714524  1.0699416  -0.22520999\n",
      "  0.53784544  0.52641396  0.53360246  0.66006151  0.32464243 -0.27125116\n",
      " -0.23305086 -0.1115878  -0.34725687 -0.37778457 -0.03891598  0.21817576\n",
      " -0.12710384  0.18431005  0.          0.          0.          0.\n",
      " -0.98261773 -1.14432025 -1.27996629 -0.03407656  0.22538042  0.36068119\n",
      " -0.01277428 -0.12343879 -0.50277264  0.36411364  0.17222388 -0.07565987\n",
      " -0.47494004 -0.64639841 -0.24384584 -0.11284584  0.13573792]\n"
     ]
    }
   ],
   "source": [
    "def data(x,T,eps):\n",
    "    T1=40\n",
    "    T2=43\n",
    "    T3=80\n",
    "    T4=83\n",
    "    y=np.zeros(T+1)\n",
    "    for i in range(T+1):\n",
    "        if i>=T1 and i<=T2:\n",
    "            y[i]=0\n",
    "        elif i>=T3 and i<=T4:\n",
    "            y[i]=0\n",
    "        else:\n",
    "            y[i]=x[i]+eps[i]\n",
    "    return y\n",
    "\n",
    "\n",
    "Ydata=data(Xdata,T,eps)\n",
    "print(Ydata)"
   ]
  },
  {
   "cell_type": "code",
   "execution_count": 14,
   "id": "6345d261",
   "metadata": {
    "id": "6345d261",
    "outputId": "a1dfa4bb-df9c-49dc-f6a3-e566ca719254"
   },
   "outputs": [
    {
     "data": {
      "image/png": "[encoded data removed]",
      "text/plain": [
       "<Figure size 432x288 with 1 Axes>"
      ]
     },
     "metadata": {
      "needs_background": "light"
     },
     "output_type": "display_data"
    }
   ],
   "source": [
    "plt.plot(It[0:40],Ydata[0:40],\"-r\")\n",
    "plt.plot(It[45:80],Ydata[45:80],\"-r\")\n",
    "plt.plot(It[85:100],Ydata[85:100],\"-r\")\n",
    "plt.grid()\n",
    "plt.show()"
   ]
  },
  {
   "cell_type": "code",
   "execution_count": 15,
   "id": "75d7dc00",
   "metadata": {
    "id": "75d7dc00",
    "outputId": "bf2cbb58-07f3-4ee7-b121-bd7178e0c70e"
   },
   "outputs": [
    {
     "data": {
      "image/png": "[encoded data removed]",
      "text/plain": [
       "<Figure size 432x288 with 1 Axes>"
      ]
     },
     "metadata": {
      "needs_background": "light"
     },
     "output_type": "display_data"
    }
   ],
   "source": [
    "plt.plot(It,Xdata, \".b\", label=\"Estimate\")\n",
    "plt.plot(It[0:40],Ydata[0:40],\"-r\", label=\"Data\")\n",
    "plt.plot(It[45:80],Ydata[45:80],\"-r\")\n",
    "plt.plot(It[85:100],Ydata[85:100],\"-r\")\n",
    "plt.legend()\n",
    "plt.grid()\n",
    "plt.show()"
   ]
  },
  {
   "cell_type": "markdown",
   "id": "e9fa2d80",
   "metadata": {
    "id": "e9fa2d80"
   },
   "source": [
    "## Kalman Tutorial"
   ]
  },
  {
   "cell_type": "code",
   "execution_count": 16,
   "id": "72457636",
   "metadata": {
    "id": "72457636"
   },
   "outputs": [],
   "source": [
    "alK=0.8\n",
    "rK=0.1\n",
    "qK=0.8\n",
    "t=1\n",
    "TK=100\n",
    "deltaK=np.random.normal(0,q**2,TK)\n",
    "x0K=np.random.normal(0,1,1)\n",
    "epsK=np.random.normal(0,r**2,TK)"
   ]
  },
  {
   "cell_type": "code",
   "execution_count": 51,
   "id": "da5ffc7c",
   "metadata": {
    "id": "da5ffc7c"
   },
   "outputs": [
    {
     "name": "stdout",
     "output_type": "stream",
     "text": [
      "[ 0.13275486 -0.22043981  0.03207588  0.21415634  0.11487381 -0.18179439\n",
      "  0.17612034 -0.2141965  -0.31032656 -0.39953483 -0.11629293 -0.00521395\n",
      " -0.28611072 -0.31054211 -0.25288786 -0.13254785 -0.07797779 -0.35897039\n",
      " -0.03432632  0.49386918  0.34964175  0.34729949  0.16596588  0.41158611\n",
      " -0.13351241 -0.33595876  0.15970281 -0.01060596 -0.00711322 -0.05908621\n",
      "  0.12031502  0.11311843 -0.26331781 -0.18113785 -0.66274181 -0.68940525\n",
      " -0.42235223 -0.37912164 -0.0149919   0.07867676 -0.22501402 -0.36533926\n",
      "  0.07247969  0.05926178  0.44806183  0.37472227  0.6954346   0.84708293\n",
      "  0.75762657  0.77284842  0.60357838  0.32126618 -0.07459162 -0.21443137\n",
      " -0.1112882  -0.12650959 -0.11531668 -0.10123224 -0.25585195 -0.03889465\n",
      " -0.16390347 -0.39894841 -0.13354015 -0.05601533 -0.3726182  -0.04465091\n",
      " -0.14047403 -0.17307431  0.20181018 -0.10055784  0.00430286 -0.06842329\n",
      "  0.17529685 -0.09001136  0.13365739  0.11637722 -0.24314583 -0.54644905\n",
      " -0.19447508 -0.26006202 -0.44601686 -0.15972873  0.21570759 -0.56972445\n",
      " -0.60490277 -0.65407    -0.46746641  0.06261676 -0.15298404 -0.58197095\n",
      " -0.48337333 -0.53803155 -0.52963453 -0.57272842 -0.52654141 -0.09597462\n",
      " -0.2115205  -0.02882247 -0.02015972  0.22159146  0.2284335 ]\n"
     ]
    }
   ],
   "source": [
    "def processK(x0,T,alpha,delta):\n",
    "    x=np.zeros(T+1)\n",
    "    x[0]=x0\n",
    "    for i in range(1,T+1,1):\n",
    "        x[i]=alpha*x[i-1]+delta[i-1]\n",
    "    return x\n",
    "\n",
    "\n",
    "XdataK=processK(x0K,TK,alK,deltaK)\n",
    "print(XdataK)"
   ]
  },
  {
   "cell_type": "code",
   "execution_count": 52,
   "id": "a8eb34aa",
   "metadata": {
    "id": "a8eb34aa",
    "outputId": "2eba257e-a837-45f6-f24f-644ebfe8746f"
   },
   "outputs": [],
   "source": [
    "def data(x,T,eps):\n",
    "    y=np.zeros(T)\n",
    "    for i in range(T):\n",
    "        y[i]=x[i]+eps[i]\n",
    "    return y\n",
    "\n",
    "\n",
    "YdataK=data(XdataK,TK,epsK)\n",
    "# print(len(YdataK))"
   ]
  },
  {
   "cell_type": "code",
   "execution_count": 19,
   "id": "0f697a7d",
   "metadata": {
    "id": "0f697a7d"
   },
   "outputs": [],
   "source": [
    "def KALMAN(M_t,mu_00,Q_t,E_00,R_t,y_t,H_t):\n",
    "    X_new=np.zeros(len(y_t))\n",
    "    X_for=np.zeros(len(y_t))\n",
    "    for k in range(len(y_t)):\n",
    "        mu_t=M_t*mu_00\n",
    "        E_t=Q_t+M_t*E_00*M_t\n",
    "        K_t=(E_t*H_t)/(H_t*E_t*H_t+R_t)\n",
    "        mu_tt=mu_t+K_t*(y_t[k]-H_t*mu_t)\n",
    "        E_tt=(1-K_t*H_t)*E_t\n",
    "        X_new[k]=np.random.normal(mu_tt,E_tt,1)\n",
    "        X_for[k]=np.random.normal(mu_t,E_t,1)\n",
    "        mu_00=mu_tt\n",
    "        E_00=E_tt\n",
    "    return [mu_t,E_t,K_t,mu_tt,E_tt,X_new,X_for]"
   ]
  },
  {
   "cell_type": "code",
   "execution_count": 53,
   "id": "a4387ffd",
   "metadata": {
    "id": "a4387ffd"
   },
   "outputs": [
    {
     "name": "stdout",
     "output_type": "stream",
     "text": [
      "[ 0.1543215  -0.21234779  0.03344997  0.21526654  0.1172741  -0.14225318\n",
      "  0.17406656 -0.19990108 -0.28246668 -0.40455275 -0.11994249 -0.00771839\n",
      " -0.26607344 -0.29940559 -0.236458   -0.15181015 -0.07215654 -0.33805948\n",
      " -0.01899542  0.46641338  0.34905331  0.35373312  0.15719901  0.38314993\n",
      " -0.09902276 -0.32333609  0.15417063  0.02959445 -0.01382031 -0.06509013\n",
      "  0.1115237   0.10810926 -0.24288337 -0.18860692 -0.63074407 -0.66880898\n",
      " -0.39648485 -0.38914322 -0.02779495  0.05537981 -0.21560031 -0.34702161\n",
      "  0.06962214  0.06544832  0.41955222  0.36339297  0.64709323  0.83310927\n",
      "  0.7861704   0.75598494  0.59781204  0.3169898  -0.06925835 -0.20893078\n",
      " -0.11645906 -0.12216417 -0.09791792 -0.09648544 -0.26052496 -0.04011403\n",
      " -0.14641549 -0.38920913 -0.12802744 -0.06098481 -0.3832499  -0.05989758\n",
      " -0.11393994 -0.16604564  0.19319987 -0.09207646 -0.00134836 -0.09268578\n",
      "  0.16740239 -0.08154553  0.13079566  0.11034334 -0.26352389 -0.52747379\n",
      " -0.1963382  -0.25204919 -0.45846173 -0.17752055  0.21273044 -0.54051445\n",
      " -0.60958418 -0.66283211 -0.45672652  0.04493391 -0.1538112  -0.56164508\n",
      " -0.49714003 -0.55388344 -0.53193486 -0.57623009 -0.52809084 -0.0915995\n",
      " -0.19494715 -0.02692608  0.00252204  0.20448331]\n"
     ]
    }
   ],
   "source": [
    "M_t=alK\n",
    "mu_00=0\n",
    "Q_t=q**2\n",
    "E_00=1\n",
    "R_t=r**2\n",
    "y_t=YdataK\n",
    "H_t=1\n",
    "KK=KALMAN(M_t,mu_00,Q_t,E_00,R_t,y_t,H_t)\n",
    "print(KK[5])"
   ]
  },
  {
   "cell_type": "markdown",
   "id": "5a05964f",
   "metadata": {
    "id": "5a05964f"
   },
   "source": [
    "##  3DVAR"
   ]
  },
  {
   "cell_type": "markdown",
   "id": "23911915",
   "metadata": {
    "id": "23911915"
   },
   "source": [
    "### Rleated to Paris and London"
   ]
  },
  {
   "cell_type": "code",
   "execution_count": 55,
   "id": "40c2796b",
   "metadata": {
    "id": "40c2796b"
   },
   "outputs": [],
   "source": [
    "import numpy as np"
   ]
  },
  {
   "cell_type": "code",
   "execution_count": 56,
   "id": "45b1be3d",
   "metadata": {
    "id": "45b1be3d"
   },
   "outputs": [],
   "source": [
    "xb=np.array([10,5])\n",
    "B=np.array([[1, 0.25], [0.25, 1]])\n",
    "R=0.25\n",
    "y=4\n",
    "H=np.array([0, 1])"
   ]
  },
  {
   "cell_type": "code",
   "execution_count": 57,
   "id": "525dd09e",
   "metadata": {
    "id": "525dd09e",
    "outputId": "a143c74f-0de8-45eb-b44b-9882ff59f75e"
   },
   "outputs": [
    {
     "name": "stdout",
     "output_type": "stream",
     "text": [
      "[9.8 4.2]\n"
     ]
    }
   ],
   "source": [
    "def X_hurt(xb,y,H,B,R):\n",
    "    K=(B@H.T)/(H@B@H.T+R)\n",
    "    X_h=xb+K*(y-H@xb)\n",
    "    return X_h\n",
    "\n",
    "\n",
    "resu=X_hurt(xb,y,H,B,R)\n",
    "print(resu)"
   ]
  },
  {
   "cell_type": "code",
   "execution_count": 61,
   "id": "75b7d6ff",
   "metadata": {
    "id": "75b7d6ff",
    "outputId": "41b48380-5b86-4eb3-c0ce-9c50ac461607"
   },
   "outputs": [
    {
     "name": "stdout",
     "output_type": "stream",
     "text": [
      "[22.55  6.6 ]\n"
     ]
    }
   ],
   "source": [
    "xb1=np.array([25.15,17])\n",
    "resu1=X_hurt(xb1,y,H,B,R)\n",
    "print(resu1)"
   ]
  },
  {
   "cell_type": "markdown",
   "id": "3452d444",
   "metadata": {
    "id": "3452d444"
   },
   "source": [
    "### (b) To Kgl"
   ]
  },
  {
   "cell_type": "code",
   "execution_count": 62,
   "id": "341308c9",
   "metadata": {
    "id": "341308c9"
   },
   "outputs": [],
   "source": [
    "Y_1=np.array([80,90,110,160,80,20,10,40,70,100,110,80])\n",
    "Y_2=Y_1.T\n",
    "X_1=np.array([76.9,91,114.2,154.2,88.1,18.6,11.4,31.1,69.6,105.7,112.7,77.4])\n",
    "X_2=X_1.T"
   ]
  },
  {
   "cell_type": "code",
   "execution_count": 63,
   "id": "e0fb2604",
   "metadata": {
    "id": "e0fb2604"
   },
   "outputs": [],
   "source": [
    "H_1=np.eye(12)\n",
    "B_1=0.1*np.eye(12)\n",
    "R_1=0.25*np.eye(12)"
   ]
  },
  {
   "cell_type": "code",
   "execution_count": 64,
   "id": "c5a56856",
   "metadata": {
    "id": "c5a56856",
    "outputId": "387188e8-08d6-4b71-d2ec-c9ef3f9be77c"
   },
   "outputs": [
    {
     "name": "stdout",
     "output_type": "stream",
     "text": [
      "[ 77.78571429  90.71428571 113.         155.85714286  85.78571429\n",
      "  19.          11.          33.64285714  69.71428571 104.07142857\n",
      " 111.92857143  78.14285714]\n"
     ]
    }
   ],
   "source": [
    "def X_hurt_1(L,Y,H,B,R):\n",
    "    K=(B@H.T)*np.linalg.inv(H@B@H.T+R)\n",
    "    X_h=L+K@(Y-H@L)\n",
    "    return X_h\n",
    "\n",
    "\n",
    "RESU_1=X_hurt_1(X_2,Y_2,H_1,B_1,R_1)\n",
    "print(RESU_1)"
   ]
  },
  {
   "cell_type": "code",
   "execution_count": 65,
   "id": "dcfb9260",
   "metadata": {
    "id": "dcfb9260",
    "outputId": "7a4e86c2-ee72-4c76-bb5a-374540d83f74"
   },
   "outputs": [
    {
     "data": {
      "image/png": "[encoded data removed]",
      "text/plain": [
       "<Figure size 432x288 with 1 Axes>"
      ]
     },
     "metadata": {
      "needs_background": "light"
     },
     "output_type": "display_data"
    }
   ],
   "source": [
    "plt.plot(RESU_1, label=\"Optimal_est\")\n",
    "plt.plot(Y_2, label=\"Data\")\n",
    "plt.plot(X_2, label=\"Background\")\n",
    "plt.legend()\n",
    "plt.show()"
   ]
  },
  {
   "cell_type": "code",
   "execution_count": 30,
   "id": "d1d6fec4",
   "metadata": {
    "id": "d1d6fec4",
    "outputId": "8c89b415-76c8-4256-da3a-b97f34234d6b"
   },
   "outputs": [
    {
     "name": "stdout",
     "output_type": "stream",
     "text": [
      "[ 78.45  90.5  112.1  157.1   84.05  19.3   10.7   35.55  69.8  102.85\n",
      " 111.35  78.7 ]\n"
     ]
    }
   ],
   "source": [
    "#(ii)\n",
    "B_2=0.25*np.eye(12)\n",
    "RESU_2=X_hurt_1(X_2,Y_2,H_1,B_2,R_1)\n",
    "print(RESU_2)"
   ]
  },
  {
   "cell_type": "code",
   "execution_count": 31,
   "id": "6d97980d",
   "metadata": {
    "id": "6d97980d",
    "outputId": "e0db2f74-b25b-4bcb-bc5e-e94b84546f2e"
   },
   "outputs": [
    {
     "data": {
      "image/png": "[encoded data removed]",
      "text/plain": [
       "<Figure size 432x288 with 1 Axes>"
      ]
     },
     "metadata": {
      "needs_background": "light"
     },
     "output_type": "display_data"
    }
   ],
   "source": [
    "plt.plot(RESU_2, label=\"Optimal_est\")\n",
    "plt.plot(Y_2, label=\"Data\")\n",
    "plt.plot(X_2, label=\"Background\")\n",
    "plt.legend()\n",
    "plt.show()"
   ]
  },
  {
   "cell_type": "code",
   "execution_count": 32,
   "id": "95ad02e1",
   "metadata": {
    "id": "95ad02e1",
    "outputId": "717b1bbe-9a20-474e-9e14-279e6b4f41af"
   },
   "outputs": [
    {
     "name": "stdout",
     "output_type": "stream",
     "text": [
      "[ 78.45  90.5  112.1  157.1   84.05  19.3   11.4   31.1   69.8  102.85\n",
      " 111.35  78.7 ]\n"
     ]
    }
   ],
   "source": [
    "#(iii)\n",
    "H_1[6:8,6:8]=0\n",
    "H_2=H_1\n",
    "RESU_3=X_hurt_1(X_2,Y_2,H_2,B_2,R_1)\n",
    "print(RESU_3)"
   ]
  },
  {
   "cell_type": "code",
   "execution_count": 33,
   "id": "2569545c",
   "metadata": {
    "id": "2569545c",
    "outputId": "368c98aa-9290-4aaf-ffc9-675d2bac1a76"
   },
   "outputs": [
    {
     "data": {
      "image/png": "[encoded data removed]",
      "text/plain": [
       "<Figure size 432x288 with 1 Axes>"
      ]
     },
     "metadata": {
      "needs_background": "light"
     },
     "output_type": "display_data"
    }
   ],
   "source": [
    "plt.plot(RESU_3, label=\"Optimal_est\")\n",
    "plt.plot(Y_2, label=\"Data\")\n",
    "plt.plot(X_2, label=\"Background\")\n",
    "plt.legend()\n",
    "plt.show()"
   ]
  },
  {
   "cell_type": "markdown",
   "id": "8d528adb",
   "metadata": {
    "id": "8d528adb"
   },
   "source": [
    "## Last tutly"
   ]
  },
  {
   "cell_type": "code",
   "execution_count": 34,
   "id": "06a84f2a",
   "metadata": {
    "id": "06a84f2a"
   },
   "outputs": [],
   "source": [
    "x_b=np.array([12,13,15,19,17])\n",
    "L=x_b.T\n",
    "y=np.array([13.2, 14.9, 16.9, 18, 19.8])\n",
    "Y=y.T"
   ]
  },
  {
   "cell_type": "code",
   "execution_count": 35,
   "id": "9614828d",
   "metadata": {
    "id": "9614828d"
   },
   "outputs": [],
   "source": [
    "sigb=0.5\n",
    "cvb=0.125\n",
    "N=5"
   ]
  },
  {
   "cell_type": "code",
   "execution_count": 36,
   "id": "6fe1b666",
   "metadata": {
    "id": "6fe1b666"
   },
   "outputs": [],
   "source": [
    "def matrix_B(sigb,cvb,N):\n",
    "    BM=np.zeros((N,N))\n",
    "    for i in range(N):\n",
    "        for j in range(N):\n",
    "            if i==j:\n",
    "                BM[i,j]=sigb\n",
    "            if (i>j and i==j+1) or (i<j and j==i+1):\n",
    "                BM[i,j]=cvb\n",
    "    return BM\n",
    "\n",
    "\n",
    "BM_1=matrix_B(sigb,cvb,N)"
   ]
  },
  {
   "cell_type": "code",
   "execution_count": 37,
   "id": "1a109e30",
   "metadata": {
    "id": "1a109e30"
   },
   "outputs": [],
   "source": [
    "def X_hurt1(L,Y,H,B,R):\n",
    "    K=(B@H.T)*np.linalg.inv(H@B@H.T+R)\n",
    "    X_h=L+K@(Y-H@L)\n",
    "    return X_h"
   ]
  },
  {
   "cell_type": "code",
   "execution_count": 38,
   "id": "05908389",
   "metadata": {
    "id": "05908389",
    "outputId": "236f6075-f4ca-4c1f-d50f-6999410461a7"
   },
   "outputs": [
    {
     "name": "stdout",
     "output_type": "stream",
     "text": [
      "[12.76761905 14.24943723 16.31616162 18.15350649 18.95105339]\n"
     ]
    }
   ],
   "source": [
    "H1=np.eye(5)\n",
    "R1=0.25*np.eye(5)\n",
    "resu2=X_hurt1(L,Y,H1,BM_1,R1)\n",
    "print(resu2)"
   ]
  },
  {
   "cell_type": "code",
   "execution_count": 39,
   "id": "b77729e3",
   "metadata": {
    "id": "b77729e3",
    "outputId": "0db6facc-3b73-4502-f9ae-5297cded0bf9"
   },
   "outputs": [
    {
     "data": {
      "image/png": "[encoded data removed]",
      "text/plain": [
       "<Figure size 432x288 with 1 Axes>"
      ]
     },
     "metadata": {
      "needs_background": "light"
     },
     "output_type": "display_data"
    }
   ],
   "source": [
    "plt.plot(resu2,'o')\n",
    "plt.plot(Y,'o')\n",
    "plt.plot(L,'o')\n",
    "plt.show()"
   ]
  },
  {
   "cell_type": "code",
   "execution_count": 40,
   "id": "9bcc9b5d",
   "metadata": {
    "id": "9bcc9b5d",
    "outputId": "0753e0a9-d1f0-4992-b82d-2ed3bfadc554"
   },
   "outputs": [
    {
     "name": "stdout",
     "output_type": "stream",
     "text": [
      "[12.77053571 14.40833333 16.78015873 17.275      19.59027778]\n"
     ]
    }
   ],
   "source": [
    "sig_b=0.8\n",
    "cv_b=0.35\n",
    "BM2=matrix_B(sig_b,cv_b,N)\n",
    "resu3=X_hurt1(L,Y,H1,BM2,R1)\n",
    "print(resu3)"
   ]
  },
  {
   "cell_type": "code",
   "execution_count": 41,
   "id": "ecef0208",
   "metadata": {
    "id": "ecef0208",
    "outputId": "de3c9394-9388-4b2a-f05b-5d2595cfad63"
   },
   "outputs": [
    {
     "data": {
      "image/png": "[encoded data removed]",
      "text/plain": [
       "<Figure size 432x288 with 1 Axes>"
      ]
     },
     "metadata": {
      "needs_background": "light"
     },
     "output_type": "display_data"
    }
   ],
   "source": [
    "plt.plot(resu3)\n",
    "# plt.plot(Y)\n",
    "# plt.plot(L)\n",
    "plt.show()"
   ]
  },
  {
   "cell_type": "markdown",
   "id": "0e14a028",
   "metadata": {
    "id": "0e14a028"
   },
   "source": [
    "## Qz"
   ]
  },
  {
   "cell_type": "code",
   "execution_count": 42,
   "id": "54485406",
   "metadata": {
    "id": "54485406"
   },
   "outputs": [],
   "source": [
    "x_b=np.array([13,12,15,19,17])\n",
    "L=x_b.T\n",
    "y=np.array([13.2, 14.9, 16.9, 18, 19.8])\n",
    "Y=y.T"
   ]
  },
  {
   "cell_type": "code",
   "execution_count": 43,
   "id": "649ecb6a",
   "metadata": {
    "id": "649ecb6a"
   },
   "outputs": [],
   "source": [
    "sig_b=0.5\n",
    "cv_b=0.125\n",
    "N=5"
   ]
  },
  {
   "cell_type": "code",
   "execution_count": 44,
   "id": "3775e68f",
   "metadata": {
    "id": "3775e68f"
   },
   "outputs": [
    {
     "name": "stdout",
     "output_type": "stream",
     "text": [
      "[[0.5   0.125 0.    0.    0.   ]\n",
      " [0.125 0.5   0.125 0.    0.   ]\n",
      " [0.    0.125 0.5   0.125 0.   ]\n",
      " [0.    0.    0.125 0.5   0.125]\n",
      " [0.    0.    0.    0.125 0.5  ]]\n"
     ]
    }
   ],
   "source": [
    "def matrix_imp(sig_b,cv_b,N):\n",
    "    BM=np.zeros((N,N))\n",
    "    for i in range(N):\n",
    "        for j in range(N):\n",
    "            if i==j:\n",
    "                BM[i,j]=sig_b\n",
    "            if (i>j and i==j+1) or (i<j and j==i+1):\n",
    "                BM[i,j]=cv_b\n",
    "    return BM\n",
    "\n",
    "\n",
    "B_b= matrix_imp(sig_b,cv_b,N)\n",
    "print(B_b)"
   ]
  },
  {
   "cell_type": "code",
   "execution_count": 45,
   "id": "8aaef4ae",
   "metadata": {
    "id": "8aaef4ae"
   },
   "outputs": [
    {
     "name": "stdout",
     "output_type": "stream",
     "text": [
      "[13.05189033 13.98536797 16.28585859 18.15350649 18.95105339]\n"
     ]
    }
   ],
   "source": [
    "#(a)\n",
    "def X_hurt_b(L,Y,H,B,R):\n",
    "    K=(B@H.T)*np.linalg.inv(H@B@H.T+R)\n",
    "    X_h=L+K@(Y-H@L)\n",
    "    return X_h\n",
    "\n",
    "\n",
    "\n",
    "H_b=np.eye(5)\n",
    "R_b=0.25*np.eye(5)\n",
    "resu_b=X_hurt_b(L,Y,H_b,B_b,R_b)\n",
    "print(resu_b)"
   ]
  },
  {
   "cell_type": "code",
   "execution_count": 46,
   "id": "4b47b227",
   "metadata": {
    "id": "4b47b227"
   },
   "outputs": [
    {
     "data": {
      "image/png": "[encoded data removed]",
      "text/plain": [
       "<Figure size 432x288 with 1 Axes>"
      ]
     },
     "metadata": {
      "needs_background": "light"
     },
     "output_type": "display_data"
    }
   ],
   "source": [
    "plt.plot(resu_b, label=\"Optimal_est\")\n",
    "plt.plot(Y, label=\"Data\")\n",
    "plt.plot(L, label=\"Background\")\n",
    "plt.legend()\n",
    "plt.show()"
   ]
  },
  {
   "cell_type": "code",
   "execution_count": 47,
   "id": "c55efb15",
   "metadata": {
    "id": "c55efb15"
   },
   "outputs": [],
   "source": [
    "#(b)\n",
    "sig_B=0.9\n",
    "cv_B=0.25\n",
    "B_B= matrix_imp(sig_B,cv_B,N)\n",
    "resu_B=X_hurt_b(L,Y,H_b,B_B,R_b)"
   ]
  },
  {
   "cell_type": "code",
   "execution_count": 48,
   "id": "23a4c563",
   "metadata": {
    "id": "23a4c563"
   },
   "outputs": [
    {
     "data": {
      "image/png": "[encoded data removed]",
      "text/plain": [
       "<Figure size 432x288 with 1 Axes>"
      ]
     },
     "metadata": {
      "needs_background": "light"
     },
     "output_type": "display_data"
    }
   ],
   "source": [
    "plt.plot(resu_B, label=\"Optimal_est\")\n",
    "plt.plot(Y, label=\"Data\")\n",
    "plt.plot(L, label=\"Background\")\n",
    "plt.legend()\n",
    "plt.show()"
   ]
  },
  {
   "cell_type": "code",
   "execution_count": 49,
   "id": "89105429",
   "metadata": {
    "id": "89105429"
   },
   "outputs": [],
   "source": []
  },
  {
   "cell_type": "code",
   "execution_count": null,
   "id": "7eef8e8d",
   "metadata": {
    "id": "7eef8e8d"
   },
   "outputs": [],
   "source": []
  }
 ],
 "metadata": {
  "colab": {
   "name": "Test_1.ipynb",
   "provenance": []
  },
  "kernelspec": {
   "display_name": "Python 3",
   "language": "python",
   "name": "python3"
  },
  "language_info": {
   "codemirror_mode": {
    "name": "ipython",
    "version": 3
   },
   "file_extension": ".py",
   "mimetype": "text/x-python",
   "name": "python",
   "nbconvert_exporter": "python",
   "pygments_lexer": "ipython3",
   "version": "3.8.8"
  }
 },
 "nbformat": 4,
 "nbformat_minor": 5
}
